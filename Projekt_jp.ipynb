{
  "nbformat": 4,
  "nbformat_minor": 0,
  "metadata": {
    "colab": {
      "name": "Projekt.ipynb",
      "provenance": [],
      "include_colab_link": true
    },
    "kernelspec": {
      "name": "python3",
      "display_name": "Python 3"
    }
  },
  "cells": [
    {
      "cell_type": "markdown",
      "metadata": {
        "id": "view-in-github",
        "colab_type": "text"
      },
      "source": [
        "<a href=\"https://colab.research.google.com/github/igoekce/exercise/blob/julia/Projekt_jp.ipynb\" target=\"_parent\"><img src=\"https://colab.research.google.com/assets/colab-badge.svg\" alt=\"Open In Colab\"/></a>"
      ]
    },
    {
      "cell_type": "code",
      "metadata": {
        "id": "Yz9d5ZU_0Lmy",
        "outputId": "407d0f26-b1c8-4298-c77f-f4df0251ab05",
        "colab": {
          "base_uri": "https://localhost:8080/",
          "height": 35
        }
      },
      "source": [
        "'Keine Lust'  \n",
        "'Kein Frust'\n",
        "'Juhu'"
      ],
      "execution_count": 2,
      "outputs": [
        {
          "output_type": "execute_result",
          "data": {
            "application/vnd.google.colaboratory.intrinsic+json": {
              "type": "string"
            },
            "text/plain": [
              "'Juhu'"
            ]
          },
          "metadata": {
            "tags": []
          },
          "execution_count": 2
        }
      ]
    },
    {
      "cell_type": "code",
      "metadata": {
        "id": "Akk_mLm30SZS",
        "outputId": "1d2f57a1-3cb5-44cc-e47f-325f7794948c",
        "colab": {
          "base_uri": "https://localhost:8080/",
          "height": 35
        }
      },
      "source": [
        "'Keine Lust'  \n",
        "'Kein Frust'\n",
        "'Juhu'"
      ],
      "execution_count": null,
      "outputs": [
        {
          "output_type": "execute_result",
          "data": {
            "application/vnd.google.colaboratory.intrinsic+json": {
              "type": "string"
            },
            "text/plain": [
              "'Zeile 2'"
            ]
          },
          "metadata": {
            "tags": []
          },
          "execution_count": 2
        }
      ]
    },
    {
      "cell_type": "code",
      "metadata": {
        "id": "cQmm1p2V0XDQ",
        "outputId": "bae41c18-bb2d-4c0c-99ae-1dd149bd9271",
        "colab": {
          "base_uri": "https://localhost:8080/",
          "height": 35
        }
      },
      "source": [
        "'Keine Lust'  \n",
        "'Kein Frust'\n",
        "'Juhu'\n",
        "'Keine Lust'  \n",
        "'Kein Frust'\n",
        "'Juhu'\n",
        "'Keine Lust'  \n",
        "'Kein Frust'\n",
        "'Juhu'\n",
        "'Keine Lust'  \n",
        "'Kein Frust'\n",
        "'Juhu'\n",
        "'Keine Lust'  \n",
        "'Kein Frust'\n",
        "'Juhu'\n",
        "'Keine Lust'  \n",
        "'Kein Frust'\n",
        "'Juhu'"
      ],
      "execution_count": 3,
      "outputs": [
        {
          "output_type": "execute_result",
          "data": {
            "application/vnd.google.colaboratory.intrinsic+json": {
              "type": "string"
            },
            "text/plain": [
              "'Juhu'"
            ]
          },
          "metadata": {
            "tags": []
          },
          "execution_count": 3
        }
      ]
    }
  ]
}

def
fer
:wq
:wq

